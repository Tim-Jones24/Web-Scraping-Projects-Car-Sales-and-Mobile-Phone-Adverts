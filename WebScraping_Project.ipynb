{
 "cells": [
  {
   "cell_type": "markdown",
   "id": "4bbc5877",
   "metadata": {},
   "source": [
    "# Web Scraping E-commerce website"
   ]
  },
  {
   "cell_type": "markdown",
   "id": "4522e529",
   "metadata": {},
   "source": [
    "## Project Description"
   ]
  },
  {
   "cell_type": "markdown",
   "id": "bcbe5bc5",
   "metadata": {},
   "source": [
    "In this project, I aim to scrape data from an e-commerce website to extract valuable information about product listings.\n",
    "The goal is to design a web scraper that can navigate the website pagination and extract relevant data related fields."
   ]
  },
  {
   "cell_type": "markdown",
   "id": "a5270d89",
   "metadata": {},
   "source": [
    "## Import Libraries"
   ]
  },
  {
   "cell_type": "code",
   "execution_count": 4,
   "id": "1353e547",
   "metadata": {},
   "outputs": [],
   "source": [
    "import requests\n",
    "import openpyxl\n",
    "from bs4 import BeautifulSoup\n",
    "import pandas as pd"
   ]
  },
  {
   "cell_type": "markdown",
   "id": "01afe9e5",
   "metadata": {},
   "source": [
    "## Scrape website"
   ]
  },
  {
   "cell_type": "code",
   "execution_count": 19,
   "id": "57bebcc5",
   "metadata": {
    "scrolled": false
   },
   "outputs": [
    {
     "name": "stdout",
     "output_type": "stream",
     "text": [
      "Request not satisfied 200\n"
     ]
    }
   ],
   "source": [
    "url= \"https://jiji.ng/cars\"\n",
    "#checking response\n",
    "response= requests.get(url)\n",
    "\n",
    "no_of_pages= 500\n",
    "\n",
    "car_data=[]\n",
    "for page in range(1, no_of_pages+1):\n",
    "    url= f\"(url)?page=(page)\"\n",
    "    if response.status_code== 200:\n",
    "            sp=BeautifulSoup(response.content, \"html.parser\")\n",
    "            #print(sp)\n",
    "\n",
    "            #Find all cars\n",
    "            jijicars= sp.find_all(\"div\", class_ = \"b-list-advert-base__data\")\n",
    "            #print(jijicars)\n",
    "\n",
    "            #loop through for extraction\n",
    "            for car in jijicars:\n",
    "               #Extracting car Name\n",
    "                Name = car.find(\"div\", class_ = \"b-list-advert-base__data__title\")\n",
    "                car_name= Name.text.strip() if Name else \"N/A\"\n",
    "\n",
    "                #Extracting Car description\n",
    "                desc = car.find(\"div\", class_ = \"b-list-advert-base__description-text\")\n",
    "                car_desc= desc.text.strip() if desc else \"N/A\"\n",
    "\n",
    "                #Extracting car Price\n",
    "                price = car.find(\"div\", class_ = \"qa-advert-price\")\n",
    "                car_price= price.text.strip() if price else \"N/A\" \n",
    "\n",
    "                #Extracting car type\n",
    "                type = car.find(\"div\", class_ = \"b-list-advert-base__item-attr\")\n",
    "                car_type= type.text.strip() if type else \"N/A\"\n",
    "\n",
    "\n",
    "                #Append to a list\n",
    "                car_data.append(\n",
    "                   {\"Name\": car_name,\n",
    "                    \"Description\": car_desc,\n",
    "                    \"Price\": car_price,\n",
    "                    \"Type\": car_type\n",
    "                }) \n",
    "            else: None\n",
    "else:\n",
    "    print(\"Request not satisfied\",response.status_code)\n",
    "\n",
    "    #convert to a dataframe    \n",
    "data= pd.DataFrame(car_data)\n",
    "data\n",
    "\n",
    " #Extract to Excel\n",
    "data.to_excel(\"car_sales_jiji.xlsx\")"
   ]
  },
  {
   "cell_type": "markdown",
   "id": "a10c3bf2",
   "metadata": {},
   "source": [
    "## Results"
   ]
  },
  {
   "cell_type": "markdown",
   "id": "3b48581e",
   "metadata": {},
   "source": [
    "* Sucessfully scraped 500 pages,resulting in a dataset of 7 unique products.\n",
    "* Extracted and stored 100,000 data records in an organized Excel spreadsheet."
   ]
  },
  {
   "cell_type": "markdown",
   "id": "bba247a5",
   "metadata": {},
   "source": [
    "## Conclusion"
   ]
  },
  {
   "cell_type": "markdown",
   "id": "e95b8998",
   "metadata": {},
   "source": [
    "This project demonstrated the effectiveness of web scraping in extracting valuable data from e-commerce websites. By designing\n",
    "a robust web scraper and utilizing the openpyxl library, i was able to navigate the website's pagination,extract relevant data\n",
    "fields, and store the data in a structured Excel spreadsheet."
   ]
  }
 ],
 "metadata": {
  "kernelspec": {
   "display_name": "Python 3 (ipykernel)",
   "language": "python",
   "name": "python3"
  },
  "language_info": {
   "codemirror_mode": {
    "name": "ipython",
    "version": 3
   },
   "file_extension": ".py",
   "mimetype": "text/x-python",
   "name": "python",
   "nbconvert_exporter": "python",
   "pygments_lexer": "ipython3",
   "version": "3.11.7"
  }
 },
 "nbformat": 4,
 "nbformat_minor": 5
}
